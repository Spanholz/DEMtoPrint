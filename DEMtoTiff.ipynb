{
 "cells": [
  {
   "cell_type": "markdown",
   "id": "89dd1ba0",
   "metadata": {},
   "source": [
    "# Make your data ready for QGIS\n",
    "\n",
    "We start with some imports, than you set your project folder and the python script will generate the GeoTiff file you need for QGIS. All steps will print some info for you :)\n",
    "Execute all steps after each other. Your input is needed on **Step 3**!"
   ]
  },
  {
   "cell_type": "markdown",
   "id": "40ae4cf3",
   "metadata": {},
   "source": [
    "## Step 1: Imports\n",
    "\n",
    "Make your script ready for the processing"
   ]
  },
  {
   "cell_type": "code",
   "execution_count": null,
   "id": "ca11f1ac",
   "metadata": {},
   "outputs": [],
   "source": [
    "import os\n",
    "import shutil\n",
    "import logging\n",
    "from pathlib import Path\n",
    "from typing import List, Optional\n",
    "from osgeo import gdal\n",
    "import time\n",
    "\n",
    "# Configure logging for Jupyter\n",
    "logging.basicConfig(level=logging.INFO, format='%(levelname)s: %(message)s')\n",
    "logger = logging.getLogger(__name__)\n",
    "\n",
    "# Configure GDAL for better performance\n",
    "gdal.SetConfigOption('GDAL_CACHEMAX', '512')  # Increase cache to 512MB\n",
    "gdal.SetConfigOption('GDAL_NUM_THREADS', 'ALL_CPUS')  # Use all CPU cores\n",
    "gdal.SetConfigOption('GDAL_DISABLE_READDIR_ON_OPEN', 'EMPTY_DIR')  # Faster file opening\n",
    "gdal.UseExceptions()\n",
    "target_epsg = \"EPSG:25833\"\n",
    "\n",
    "print(\"✅ Setup complete!\")"
   ]
  },
  {
   "cell_type": "markdown",
   "id": "38a45de8",
   "metadata": {},
   "source": [
    "## Step 2: This is the actual code, execute once so the script can than be started"
   ]
  },
  {
   "cell_type": "code",
   "execution_count": null,
   "id": "783d3077",
   "metadata": {},
   "outputs": [],
   "source": [
    "def quick_convert(input_folder: str, target_epsg: str = \"EPSG:25833\") -> Optional[Path]:\n",
    "    \n",
    "    input_path = Path(input_folder)\n",
    "    temp_folder = input_path / \"temp\" # Creates a temporary folder, which can be deleted afterwards\n",
    "    temp_folder.mkdir(exist_ok=True)\n",
    "    \n",
    "    try:\n",
    "        # Find XYZ files\n",
    "        xyz_files = list(input_path.rglob(\"*.xyz\"))\n",
    "        print(f\"📊 Found {len(xyz_files)} XYZ files\")\n",
    "        \n",
    "        if not xyz_files:\n",
    "            print(\"❌ No XYZ files found!\")\n",
    "            return None\n",
    "        \n",
    "        # Convert and transform in one step\n",
    "        transformed_files = []\n",
    "        for i, xyz_file in enumerate(xyz_files, 1):\n",
    "            print(f\"⚙️  Processing {i}/{len(xyz_files)}: {xyz_file.name}\")\n",
    "            \n",
    "            # Direct conversion with projection\n",
    "            output_path = temp_folder / f\"processed_{xyz_file.stem}.tif\"\n",
    "            \n",
    "            # Convert XYZ to GeoTIFF with target projection\n",
    "            gdal.Translate(\n",
    "                str(output_path),\n",
    "                str(xyz_file),\n",
    "                outputSRS=target_epsg,\n",
    "                format=\"GTiff\",\n",
    "                creationOptions=[\"COMPRESS=LZW\", \"TILED=YES\"]\n",
    "            )\n",
    "            \n",
    "            # Transform projection if needed\n",
    "            final_path = temp_folder / f\"final_{xyz_file.stem}.tif\"\n",
    "            gdal.Warp(\n",
    "                str(final_path),\n",
    "                str(output_path),\n",
    "                dstSRS=target_epsg,\n",
    "                format=\"GTiff\",\n",
    "                creationOptions=[\"COMPRESS=LZW\", \"TILED=YES\"],\n",
    "                multithread=True\n",
    "            )\n",
    "            \n",
    "            transformed_files.append(final_path)\n",
    "            os.remove(output_path)  # Clean up intermediate file\n",
    "        \n",
    "        # Merge all files\n",
    "        merged_output = input_path / \"merged_dem.tif\"\n",
    "        print(f\"🔄 Merging {len(transformed_files)} files...\")\n",
    "        \n",
    "        gdal.Warp(\n",
    "            str(merged_output),\n",
    "            [str(f) for f in transformed_files],\n",
    "            format=\"GTiff\",\n",
    "            creationOptions=[\"COMPRESS=LZW\", \"TILED=YES\", \"BIGTIFF=IF_SAFER\"],\n",
    "            multithread=True\n",
    "        )\n",
    "        \n",
    "        # Cleanup\n",
    "        shutil.rmtree(temp_folder)\n",
    "        \n",
    "        print(f\"✅ Success! Output: {merged_output}\")\n",
    "        print(f\"📏 File size: {merged_output.stat().st_size / (1024*1024):.2f} MB\")\n",
    "        \n",
    "        return merged_output\n",
    "        \n",
    "    except Exception as e:\n",
    "        print(f\"❌ Error: {e}\")\n",
    "        # Cleanup on error\n",
    "        if temp_folder.exists():\n",
    "            shutil.rmtree(temp_folder)\n",
    "        return None\n",
    "\n",
    "print(\"🚀 Quick convert function ready!\")"
   ]
  },
  {
   "cell_type": "markdown",
   "id": "81e67c9e",
   "metadata": {},
   "source": [
    "## Step 3: Set your folder and start conversion\n",
    "\n",
    "Put your folder location inside of the brackets"
   ]
  },
  {
   "cell_type": "code",
   "execution_count": null,
   "id": "ceac2150",
   "metadata": {},
   "outputs": [],
   "source": [
    "# Set your project folder -  the rest will be done automatically\n",
    "\n",
    "input_folder = \"/home/example_folder/\"\n",
    "\n",
    "\n",
    "# Validate path to see if your folder exists\n",
    "input_folder = Path(input_folder)\n",
    "if not input_folder.exists():\n",
    "    raise FileNotFoundError(f\"Input folder does not exist: {input_folder}\")\n",
    "\n",
    "print(f\"📁 Input folder: {input_folder}\")\n",
    "\n"
   ]
  },
  {
   "cell_type": "markdown",
   "id": "45f42af3",
   "metadata": {},
   "source": [
    "## Step 4: Time to start the actual transformation from XYZ files to GeoTIFF\n",
    "\n",
    "Depending on the area you chose this may take a while. \n",
    "16km² take around 30s on a Ryzen 3600 with 16GB of RAM. \n",
    "\n",
    "There is a little timer and frequent prints of which file is currently processed"
   ]
  },
  {
   "cell_type": "code",
   "execution_count": null,
   "id": "a69f8a44",
   "metadata": {},
   "outputs": [],
   "source": [
    "start_time = time.time() # Starts your timer\n",
    "\n",
    "result = quick_convert(input_folder, target_epsg) # Converts your files and merges them to one TIFF\n",
    "\n",
    "end_time = time.time() \n",
    "processing_time = end_time - start_time\n",
    "\n",
    "print(f\"\\n⏱️  Processing time: {processing_time:.2f} seconds\")\n",
    "\n",
    "if result:\n",
    "    print(f\"🎯 Ready for QGIS: {result}\")\n",
    "else:\n",
    "    print(\"💥 Conversion failed - check the logs above\")"
   ]
  }
 ],
 "metadata": {
  "kernelspec": {
   "display_name": "Python 3",
   "language": "python",
   "name": "python3"
  },
  "language_info": {
   "codemirror_mode": {
    "name": "ipython",
    "version": 3
   },
   "file_extension": ".py",
   "mimetype": "text/x-python",
   "name": "python",
   "nbconvert_exporter": "python",
   "pygments_lexer": "ipython3",
   "version": "3.13.5"
  }
 },
 "nbformat": 4,
 "nbformat_minor": 5
}
