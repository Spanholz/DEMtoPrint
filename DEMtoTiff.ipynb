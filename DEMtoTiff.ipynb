{
 "cells": [
  {
   "cell_type": "markdown",
   "id": "89dd1ba0",
   "metadata": {},
   "source": [
    "# Make your data ready for QGIS\n",
    "\n",
    "We start with some imports, than you set your project folder and the python script will generate the GeoTiff file you need for QGIS."
   ]
  },
  {
   "cell_type": "markdown",
   "id": "40ae4cf3",
   "metadata": {},
   "source": [
    "## Imports"
   ]
  },
  {
   "cell_type": "code",
   "execution_count": 21,
   "id": "ca11f1ac",
   "metadata": {},
   "outputs": [],
   "source": [
    "import os\n",
    "import shutil\n",
    "import glob\n",
    "from osgeo import gdal\n",
    "import subprocess"
   ]
  },
  {
   "cell_type": "markdown",
   "id": "81e67c9e",
   "metadata": {},
   "source": [
    "## Set your folder\n",
    "\n",
    "Put your folder location inside of the brackets"
   ]
  },
  {
   "cell_type": "code",
   "execution_count": null,
   "id": "ceac2150",
   "metadata": {},
   "outputs": [],
   "source": [
    "# Set your project folder -  the rest will be done automatically\n",
    "\n",
    "input_folder = \"home/example_folders\""
   ]
  },
  {
   "cell_type": "markdown",
   "id": "45f42af3",
   "metadata": {},
   "source": [
    "## Transformation from XYZ files to TIFF\n",
    "\n",
    "Depending on the area you chose this may take a while. \n",
    "16km² take around 45s on a Ryzen 3600 with 16GB. "
   ]
  },
  {
   "cell_type": "code",
   "execution_count": null,
   "id": "783d3077",
   "metadata": {},
   "outputs": [
    {
     "name": "stdout",
     "output_type": "stream",
     "text": [
      "All .xyz files have been converted into 'geotiffs, now.\n",
      "Files are beeing transformed\n",
      "Creating output file that is 2000P x 2000L.\n",
      "Processing dgm1_33436_5640_2_sn.tif [1/1] : 0...10...20...30...40...50...60...70...80...90...100 - done.\n",
      "All files have been transformed to the right projection\n",
      "Creating output file that is 2000P x 2000L.\n",
      "Processing dgm1_33436_5642_2_sn.tif [1/1] : 0...10...20...30...40...50...60...70...80...90...100 - done.\n",
      "All files have been transformed to the right projection\n",
      "Creating output file that is 2000P x 2000L.\n",
      "Processing dgm1_33436_5646_2_sn.tif [1/1] : 0...10...20...30...40...50...60...70...80...90...100 - done.\n",
      "All files have been transformed to the right projection\n",
      "Creating output file that is 2000P x 2000L.\n",
      "Processing dgm1_33436_5644_2_sn.tif [1/1] : 0...10...20...30...40...50...60...70...80...90...100 - done.\n",
      "All files have been transformed to the right projection\n",
      "Finished!\n",
      "0...10...20...30...40...50...60...70...80...90...100 - done.\n",
      "Merged 4 files into /home/svenf/Dokumente/Projekte/DGM/Beispiel Sächsische Schweiz/DGM1/merged_transformed.tif\n"
     ]
    }
   ],
   "source": [
    "# Define input folder and output folder\n",
    "output_folder = os.path.join(input_folder + \"temp\")\n",
    "\n",
    "# Create the output folder if it doesn't exist\n",
    "os.makedirs(output_folder, exist_ok=True)\n",
    "\n",
    "# Walk through all folders and files in the input folder\n",
    "for root, _, files in os.walk(input_folder):\n",
    "    for file in files:\n",
    "        if file.endswith(\".xyz\"):\n",
    "            input_path = os.path.join(root, file)\n",
    "            output_path = os.path.join(output_folder, f\"{os.path.splitext(file)[0]}.tif\")\n",
    "            \n",
    "            # Use gdal_translate to convert .xyz to .tif\n",
    "            gdal.Translate(\n",
    "                output_path,\n",
    "                input_path,\n",
    "                outputSRS=\"EPSG:25833\",  # Set the projection\n",
    "                format=\"GTiff\"          # Specify GeoTIFF as output format\n",
    "            )\n",
    "            #print(f\"Converted: {input_path} -> {output_path}\")\n",
    "\n",
    "print(\"All .xyz files have been converted into 'geotiffs, now.\")\n",
    "print(\"Files are beeing transformed\")\n",
    "transformed_files = []\n",
    "\n",
    "# Loop through all .tif files in the folder\n",
    "for filename in os.listdir(output_folder):\n",
    "    if filename.endswith(\".tif\"):\n",
    "        # Define the full input and output file paths\n",
    "        input_file = os.path.join(output_folder, filename)\n",
    "        output_file = os.path.join(output_folder, f\"transformed_{filename}\")\n",
    "\n",
    "        # Define the gdalwarp command with the appropriate EPSG code\n",
    "        warp_command = [\n",
    "            \"gdalwarp\",\n",
    "            \"-t_srs\", \"EPSG: 25833\",\n",
    "            input_file,\n",
    "            output_file\n",
    "        ]\n",
    "        transformed_files.append(output_file)\n",
    "        # Run the command\n",
    "        subprocess.run(warp_command)\n",
    "        \n",
    "        print(\"All files have been transformed to the right projection\")\n",
    "\n",
    "print (\"Finished!\")\n",
    "# Remove the geotiff directory\n",
    "\n",
    "\n",
    "if transformed_files:\n",
    "    merged_output = os.path.join(input_folder, \"merged_transformed.tif\")\n",
    "    \n",
    "    # Build the gdal_merge command\n",
    "    merge_command = [\"gdal_merge\", \"-o\", merged_output] + transformed_files\n",
    "    \n",
    "    # Run the merge command\n",
    "    subprocess.run(merge_command)\n",
    "    \n",
    "    print(f\"Merged {len(transformed_files)} files into {merged_output}\")\n",
    "    \n",
    "else:\n",
    "    print(\"No files were transformed, nothing to merge\")\n",
    "\n",
    "shutil.rmtree(output_folder) # Cleanup temporary files\n"
   ]
  }
 ],
 "metadata": {
  "kernelspec": {
   "display_name": "Python 3",
   "language": "python",
   "name": "python3"
  },
  "language_info": {
   "codemirror_mode": {
    "name": "ipython",
    "version": 3
   },
   "file_extension": ".py",
   "mimetype": "text/x-python",
   "name": "python",
   "nbconvert_exporter": "python",
   "pygments_lexer": "ipython3",
   "version": "3.13.5"
  }
 },
 "nbformat": 4,
 "nbformat_minor": 5
}
